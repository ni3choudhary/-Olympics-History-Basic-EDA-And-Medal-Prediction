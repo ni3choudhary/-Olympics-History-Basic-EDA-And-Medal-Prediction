{
 "cells": [
  {
   "cell_type": "markdown",
   "metadata": {},
   "source": [
    "# 120 Years of Olympics History"
   ]
  },
  {
   "cell_type": "markdown",
   "metadata": {},
   "source": [
    "### **Importing Required Libraries**"
   ]
  },
  {
   "cell_type": "code",
   "execution_count": 1,
   "metadata": {
    "execution": {
     "iopub.execute_input": "2021-08-18T15:27:03.540815Z",
     "iopub.status.busy": "2021-08-18T15:27:03.540462Z",
     "iopub.status.idle": "2021-08-18T15:27:04.718437Z",
     "shell.execute_reply": "2021-08-18T15:27:04.717491Z",
     "shell.execute_reply.started": "2021-08-18T15:27:03.540739Z"
    }
   },
   "outputs": [],
   "source": [
    "import pandas as pd\n",
    "import numpy as np\n",
    "import matplotlib.pyplot as plt\n",
    "import seaborn as sns \n",
    "\n",
    "from sklearn.preprocessing import StandardScaler\n",
    "from sklearn.model_selection import train_test_split\n",
    "\n",
    "from sklearn.ensemble import RandomForestClassifier\n",
    "from sklearn.metrics import classification_report, confusion_matrix\n",
    "\n",
    "import warnings\n",
    "warnings.filterwarnings('ignore')"
   ]
  },
  {
   "cell_type": "markdown",
   "metadata": {},
   "source": [
    "### **Importing Data**"
   ]
  },
  {
   "cell_type": "code",
   "execution_count": 2,
   "metadata": {
    "execution": {
     "iopub.execute_input": "2021-08-18T15:27:04.720548Z",
     "iopub.status.busy": "2021-08-18T15:27:04.720142Z",
     "iopub.status.idle": "2021-08-18T15:27:05.843962Z",
     "shell.execute_reply": "2021-08-18T15:27:05.843030Z",
     "shell.execute_reply.started": "2021-08-18T15:27:04.720504Z"
    }
   },
   "outputs": [],
   "source": [
    "athletes_df = pd.read_csv('./athlete_events.csv')\n",
    "\n",
    "regions_df = pd.read_csv('./noc_regions.csv')"
   ]
  },
  {
   "cell_type": "code",
   "execution_count": 3,
   "metadata": {
    "execution": {
     "iopub.execute_input": "2021-08-18T15:27:05.846501Z",
     "iopub.status.busy": "2021-08-18T15:27:05.846098Z",
     "iopub.status.idle": "2021-08-18T15:27:05.883322Z",
     "shell.execute_reply": "2021-08-18T15:27:05.882271Z",
     "shell.execute_reply.started": "2021-08-18T15:27:05.846462Z"
    }
   },
   "outputs": [
    {
     "data": {
      "text/html": [
       "<div>\n",
       "<style scoped>\n",
       "    .dataframe tbody tr th:only-of-type {\n",
       "        vertical-align: middle;\n",
       "    }\n",
       "\n",
       "    .dataframe tbody tr th {\n",
       "        vertical-align: top;\n",
       "    }\n",
       "\n",
       "    .dataframe thead th {\n",
       "        text-align: right;\n",
       "    }\n",
       "</style>\n",
       "<table border=\"1\" class=\"dataframe\">\n",
       "  <thead>\n",
       "    <tr style=\"text-align: right;\">\n",
       "      <th></th>\n",
       "      <th>ID</th>\n",
       "      <th>Name</th>\n",
       "      <th>Sex</th>\n",
       "      <th>Age</th>\n",
       "      <th>Height</th>\n",
       "      <th>Weight</th>\n",
       "      <th>Team</th>\n",
       "      <th>NOC</th>\n",
       "      <th>Games</th>\n",
       "      <th>Year</th>\n",
       "      <th>Season</th>\n",
       "      <th>City</th>\n",
       "      <th>Sport</th>\n",
       "      <th>Event</th>\n",
       "      <th>Medal</th>\n",
       "    </tr>\n",
       "  </thead>\n",
       "  <tbody>\n",
       "    <tr>\n",
       "      <th>0</th>\n",
       "      <td>1</td>\n",
       "      <td>A Dijiang</td>\n",
       "      <td>M</td>\n",
       "      <td>24.0</td>\n",
       "      <td>180.0</td>\n",
       "      <td>80.0</td>\n",
       "      <td>China</td>\n",
       "      <td>CHN</td>\n",
       "      <td>1992 Summer</td>\n",
       "      <td>1992</td>\n",
       "      <td>Summer</td>\n",
       "      <td>Barcelona</td>\n",
       "      <td>Basketball</td>\n",
       "      <td>Basketball Men's Basketball</td>\n",
       "      <td>NaN</td>\n",
       "    </tr>\n",
       "    <tr>\n",
       "      <th>1</th>\n",
       "      <td>2</td>\n",
       "      <td>A Lamusi</td>\n",
       "      <td>M</td>\n",
       "      <td>23.0</td>\n",
       "      <td>170.0</td>\n",
       "      <td>60.0</td>\n",
       "      <td>China</td>\n",
       "      <td>CHN</td>\n",
       "      <td>2012 Summer</td>\n",
       "      <td>2012</td>\n",
       "      <td>Summer</td>\n",
       "      <td>London</td>\n",
       "      <td>Judo</td>\n",
       "      <td>Judo Men's Extra-Lightweight</td>\n",
       "      <td>NaN</td>\n",
       "    </tr>\n",
       "    <tr>\n",
       "      <th>2</th>\n",
       "      <td>3</td>\n",
       "      <td>Gunnar Nielsen Aaby</td>\n",
       "      <td>M</td>\n",
       "      <td>24.0</td>\n",
       "      <td>NaN</td>\n",
       "      <td>NaN</td>\n",
       "      <td>Denmark</td>\n",
       "      <td>DEN</td>\n",
       "      <td>1920 Summer</td>\n",
       "      <td>1920</td>\n",
       "      <td>Summer</td>\n",
       "      <td>Antwerpen</td>\n",
       "      <td>Football</td>\n",
       "      <td>Football Men's Football</td>\n",
       "      <td>NaN</td>\n",
       "    </tr>\n",
       "    <tr>\n",
       "      <th>3</th>\n",
       "      <td>4</td>\n",
       "      <td>Edgar Lindenau Aabye</td>\n",
       "      <td>M</td>\n",
       "      <td>34.0</td>\n",
       "      <td>NaN</td>\n",
       "      <td>NaN</td>\n",
       "      <td>Denmark/Sweden</td>\n",
       "      <td>DEN</td>\n",
       "      <td>1900 Summer</td>\n",
       "      <td>1900</td>\n",
       "      <td>Summer</td>\n",
       "      <td>Paris</td>\n",
       "      <td>Tug-Of-War</td>\n",
       "      <td>Tug-Of-War Men's Tug-Of-War</td>\n",
       "      <td>Gold</td>\n",
       "    </tr>\n",
       "    <tr>\n",
       "      <th>4</th>\n",
       "      <td>5</td>\n",
       "      <td>Christine Jacoba Aaftink</td>\n",
       "      <td>F</td>\n",
       "      <td>21.0</td>\n",
       "      <td>185.0</td>\n",
       "      <td>82.0</td>\n",
       "      <td>Netherlands</td>\n",
       "      <td>NED</td>\n",
       "      <td>1988 Winter</td>\n",
       "      <td>1988</td>\n",
       "      <td>Winter</td>\n",
       "      <td>Calgary</td>\n",
       "      <td>Speed Skating</td>\n",
       "      <td>Speed Skating Women's 500 metres</td>\n",
       "      <td>NaN</td>\n",
       "    </tr>\n",
       "  </tbody>\n",
       "</table>\n",
       "</div>"
      ],
      "text/plain": [
       "   ID                      Name Sex   Age  Height  Weight            Team  \\\n",
       "0   1                 A Dijiang   M  24.0   180.0    80.0           China   \n",
       "1   2                  A Lamusi   M  23.0   170.0    60.0           China   \n",
       "2   3       Gunnar Nielsen Aaby   M  24.0     NaN     NaN         Denmark   \n",
       "3   4      Edgar Lindenau Aabye   M  34.0     NaN     NaN  Denmark/Sweden   \n",
       "4   5  Christine Jacoba Aaftink   F  21.0   185.0    82.0     Netherlands   \n",
       "\n",
       "   NOC        Games  Year  Season       City          Sport  \\\n",
       "0  CHN  1992 Summer  1992  Summer  Barcelona     Basketball   \n",
       "1  CHN  2012 Summer  2012  Summer     London           Judo   \n",
       "2  DEN  1920 Summer  1920  Summer  Antwerpen       Football   \n",
       "3  DEN  1900 Summer  1900  Summer      Paris     Tug-Of-War   \n",
       "4  NED  1988 Winter  1988  Winter    Calgary  Speed Skating   \n",
       "\n",
       "                              Event Medal  \n",
       "0       Basketball Men's Basketball   NaN  \n",
       "1      Judo Men's Extra-Lightweight   NaN  \n",
       "2           Football Men's Football   NaN  \n",
       "3       Tug-Of-War Men's Tug-Of-War  Gold  \n",
       "4  Speed Skating Women's 500 metres   NaN  "
      ]
     },
     "execution_count": 3,
     "metadata": {},
     "output_type": "execute_result"
    }
   ],
   "source": [
    "# lets check the glimpse of first five rows of athletes dataframe\n",
    "athletes_df.head()"
   ]
  },
  {
   "cell_type": "code",
   "execution_count": 4,
   "metadata": {
    "execution": {
     "iopub.execute_input": "2021-08-18T15:27:05.885853Z",
     "iopub.status.busy": "2021-08-18T15:27:05.885460Z",
     "iopub.status.idle": "2021-08-18T15:27:05.897287Z",
     "shell.execute_reply": "2021-08-18T15:27:05.896001Z",
     "shell.execute_reply.started": "2021-08-18T15:27:05.885814Z"
    }
   },
   "outputs": [
    {
     "data": {
      "text/html": [
       "<div>\n",
       "<style scoped>\n",
       "    .dataframe tbody tr th:only-of-type {\n",
       "        vertical-align: middle;\n",
       "    }\n",
       "\n",
       "    .dataframe tbody tr th {\n",
       "        vertical-align: top;\n",
       "    }\n",
       "\n",
       "    .dataframe thead th {\n",
       "        text-align: right;\n",
       "    }\n",
       "</style>\n",
       "<table border=\"1\" class=\"dataframe\">\n",
       "  <thead>\n",
       "    <tr style=\"text-align: right;\">\n",
       "      <th></th>\n",
       "      <th>NOC</th>\n",
       "      <th>region</th>\n",
       "      <th>notes</th>\n",
       "    </tr>\n",
       "  </thead>\n",
       "  <tbody>\n",
       "    <tr>\n",
       "      <th>0</th>\n",
       "      <td>AFG</td>\n",
       "      <td>Afghanistan</td>\n",
       "      <td>NaN</td>\n",
       "    </tr>\n",
       "    <tr>\n",
       "      <th>1</th>\n",
       "      <td>AHO</td>\n",
       "      <td>Curacao</td>\n",
       "      <td>Netherlands Antilles</td>\n",
       "    </tr>\n",
       "    <tr>\n",
       "      <th>2</th>\n",
       "      <td>ALB</td>\n",
       "      <td>Albania</td>\n",
       "      <td>NaN</td>\n",
       "    </tr>\n",
       "    <tr>\n",
       "      <th>3</th>\n",
       "      <td>ALG</td>\n",
       "      <td>Algeria</td>\n",
       "      <td>NaN</td>\n",
       "    </tr>\n",
       "    <tr>\n",
       "      <th>4</th>\n",
       "      <td>AND</td>\n",
       "      <td>Andorra</td>\n",
       "      <td>NaN</td>\n",
       "    </tr>\n",
       "  </tbody>\n",
       "</table>\n",
       "</div>"
      ],
      "text/plain": [
       "   NOC       region                 notes\n",
       "0  AFG  Afghanistan                   NaN\n",
       "1  AHO      Curacao  Netherlands Antilles\n",
       "2  ALB      Albania                   NaN\n",
       "3  ALG      Algeria                   NaN\n",
       "4  AND      Andorra                   NaN"
      ]
     },
     "execution_count": 4,
     "metadata": {},
     "output_type": "execute_result"
    }
   ],
   "source": [
    "# lets check the glimpse of first five rows of regions dataframe\n",
    "regions_df.head()"
   ]
  },
  {
   "cell_type": "code",
   "execution_count": 5,
   "metadata": {
    "execution": {
     "iopub.execute_input": "2021-08-18T15:27:05.899524Z",
     "iopub.status.busy": "2021-08-18T15:27:05.899113Z",
     "iopub.status.idle": "2021-08-18T15:27:05.906430Z",
     "shell.execute_reply": "2021-08-18T15:27:05.905142Z",
     "shell.execute_reply.started": "2021-08-18T15:27:05.899484Z"
    }
   },
   "outputs": [
    {
     "name": "stdout",
     "output_type": "stream",
     "text": [
      "Shape of Athlete DF (271116, 15)\n",
      "\n",
      "Shape of Regions DF (230, 3)\n"
     ]
    }
   ],
   "source": [
    "# shape of dataframe\n",
    "print('Shape of Athlete DF {}\\n'.format(athletes_df.shape))\n",
    "print('Shape of Regions DF {}'.format(regions_df.shape))"
   ]
  },
  {
   "cell_type": "code",
   "execution_count": 6,
   "metadata": {
    "execution": {
     "iopub.execute_input": "2021-08-18T15:27:05.908723Z",
     "iopub.status.busy": "2021-08-18T15:27:05.908282Z",
     "iopub.status.idle": "2021-08-18T15:27:06.098881Z",
     "shell.execute_reply": "2021-08-18T15:27:06.097859Z",
     "shell.execute_reply.started": "2021-08-18T15:27:05.908687Z"
    }
   },
   "outputs": [],
   "source": [
    "# lets merge athlete events and region based on NOC\n",
    "df_merged = athletes_df.merge(regions_df,on='NOC',how='left')"
   ]
  },
  {
   "cell_type": "code",
   "execution_count": 7,
   "metadata": {
    "execution": {
     "iopub.execute_input": "2021-08-18T15:27:06.101562Z",
     "iopub.status.busy": "2021-08-18T15:27:06.100778Z",
     "iopub.status.idle": "2021-08-18T15:27:06.399384Z",
     "shell.execute_reply": "2021-08-18T15:27:06.398229Z",
     "shell.execute_reply.started": "2021-08-18T15:27:06.101522Z"
    }
   },
   "outputs": [
    {
     "name": "stdout",
     "output_type": "stream",
     "text": [
      "<class 'pandas.core.frame.DataFrame'>\n",
      "Int64Index: 271116 entries, 0 to 271115\n",
      "Data columns (total 17 columns):\n",
      " #   Column  Non-Null Count   Dtype  \n",
      "---  ------  --------------   -----  \n",
      " 0   ID      271116 non-null  int64  \n",
      " 1   Name    271116 non-null  object \n",
      " 2   Sex     271116 non-null  object \n",
      " 3   Age     261642 non-null  float64\n",
      " 4   Height  210945 non-null  float64\n",
      " 5   Weight  208241 non-null  float64\n",
      " 6   Team    271116 non-null  object \n",
      " 7   NOC     271116 non-null  object \n",
      " 8   Games   271116 non-null  object \n",
      " 9   Year    271116 non-null  int64  \n",
      " 10  Season  271116 non-null  object \n",
      " 11  City    271116 non-null  object \n",
      " 12  Sport   271116 non-null  object \n",
      " 13  Event   271116 non-null  object \n",
      " 14  Medal   39783 non-null   object \n",
      " 15  region  270746 non-null  object \n",
      " 16  notes   5039 non-null    object \n",
      "dtypes: float64(3), int64(2), object(12)\n",
      "memory usage: 37.2+ MB\n"
     ]
    }
   ],
   "source": [
    "## Getting an overview of our data\n",
    "df_merged.info()"
   ]
  },
  {
   "cell_type": "code",
   "execution_count": 8,
   "metadata": {
    "execution": {
     "iopub.execute_input": "2021-08-18T15:27:06.403031Z",
     "iopub.status.busy": "2021-08-18T15:27:06.402592Z",
     "iopub.status.idle": "2021-08-18T15:27:06.565025Z",
     "shell.execute_reply": "2021-08-18T15:27:06.563793Z",
     "shell.execute_reply.started": "2021-08-18T15:27:06.402960Z"
    }
   },
   "outputs": [
    {
     "data": {
      "text/html": [
       "<div>\n",
       "<style scoped>\n",
       "    .dataframe tbody tr th:only-of-type {\n",
       "        vertical-align: middle;\n",
       "    }\n",
       "\n",
       "    .dataframe tbody tr th {\n",
       "        vertical-align: top;\n",
       "    }\n",
       "\n",
       "    .dataframe thead th {\n",
       "        text-align: right;\n",
       "    }\n",
       "</style>\n",
       "<table border=\"1\" class=\"dataframe\">\n",
       "  <thead>\n",
       "    <tr style=\"text-align: right;\">\n",
       "      <th></th>\n",
       "      <th>ID</th>\n",
       "      <th>Age</th>\n",
       "      <th>Height</th>\n",
       "      <th>Weight</th>\n",
       "      <th>Year</th>\n",
       "    </tr>\n",
       "  </thead>\n",
       "  <tbody>\n",
       "    <tr>\n",
       "      <th>count</th>\n",
       "      <td>271116.000000</td>\n",
       "      <td>261642.000000</td>\n",
       "      <td>210945.000000</td>\n",
       "      <td>208241.000000</td>\n",
       "      <td>271116.000000</td>\n",
       "    </tr>\n",
       "    <tr>\n",
       "      <th>mean</th>\n",
       "      <td>68248.954396</td>\n",
       "      <td>25.556898</td>\n",
       "      <td>175.338970</td>\n",
       "      <td>70.702393</td>\n",
       "      <td>1978.378480</td>\n",
       "    </tr>\n",
       "    <tr>\n",
       "      <th>std</th>\n",
       "      <td>39022.286345</td>\n",
       "      <td>6.393561</td>\n",
       "      <td>10.518462</td>\n",
       "      <td>14.348020</td>\n",
       "      <td>29.877632</td>\n",
       "    </tr>\n",
       "    <tr>\n",
       "      <th>min</th>\n",
       "      <td>1.000000</td>\n",
       "      <td>10.000000</td>\n",
       "      <td>127.000000</td>\n",
       "      <td>25.000000</td>\n",
       "      <td>1896.000000</td>\n",
       "    </tr>\n",
       "    <tr>\n",
       "      <th>25%</th>\n",
       "      <td>34643.000000</td>\n",
       "      <td>21.000000</td>\n",
       "      <td>168.000000</td>\n",
       "      <td>60.000000</td>\n",
       "      <td>1960.000000</td>\n",
       "    </tr>\n",
       "    <tr>\n",
       "      <th>50%</th>\n",
       "      <td>68205.000000</td>\n",
       "      <td>24.000000</td>\n",
       "      <td>175.000000</td>\n",
       "      <td>70.000000</td>\n",
       "      <td>1988.000000</td>\n",
       "    </tr>\n",
       "    <tr>\n",
       "      <th>75%</th>\n",
       "      <td>102097.250000</td>\n",
       "      <td>28.000000</td>\n",
       "      <td>183.000000</td>\n",
       "      <td>79.000000</td>\n",
       "      <td>2002.000000</td>\n",
       "    </tr>\n",
       "    <tr>\n",
       "      <th>max</th>\n",
       "      <td>135571.000000</td>\n",
       "      <td>97.000000</td>\n",
       "      <td>226.000000</td>\n",
       "      <td>214.000000</td>\n",
       "      <td>2016.000000</td>\n",
       "    </tr>\n",
       "  </tbody>\n",
       "</table>\n",
       "</div>"
      ],
      "text/plain": [
       "                  ID            Age         Height         Weight  \\\n",
       "count  271116.000000  261642.000000  210945.000000  208241.000000   \n",
       "mean    68248.954396      25.556898     175.338970      70.702393   \n",
       "std     39022.286345       6.393561      10.518462      14.348020   \n",
       "min         1.000000      10.000000     127.000000      25.000000   \n",
       "25%     34643.000000      21.000000     168.000000      60.000000   \n",
       "50%     68205.000000      24.000000     175.000000      70.000000   \n",
       "75%    102097.250000      28.000000     183.000000      79.000000   \n",
       "max    135571.000000      97.000000     226.000000     214.000000   \n",
       "\n",
       "                Year  \n",
       "count  271116.000000  \n",
       "mean     1978.378480  \n",
       "std        29.877632  \n",
       "min      1896.000000  \n",
       "25%      1960.000000  \n",
       "50%      1988.000000  \n",
       "75%      2002.000000  \n",
       "max      2016.000000  "
      ]
     },
     "execution_count": 8,
     "metadata": {},
     "output_type": "execute_result"
    }
   ],
   "source": [
    "# summary statistics\n",
    "df_merged.describe()"
   ]
  },
  {
   "cell_type": "code",
   "execution_count": 9,
   "metadata": {
    "execution": {
     "iopub.execute_input": "2021-08-18T15:27:06.567717Z",
     "iopub.status.busy": "2021-08-18T15:27:06.567296Z",
     "iopub.status.idle": "2021-08-18T15:27:06.856148Z",
     "shell.execute_reply": "2021-08-18T15:27:06.855285Z",
     "shell.execute_reply.started": "2021-08-18T15:27:06.567673Z"
    }
   },
   "outputs": [
    {
     "data": {
      "text/plain": [
       "ID             0\n",
       "Name           0\n",
       "Sex            0\n",
       "Age         9474\n",
       "Height     60171\n",
       "Weight     62875\n",
       "Team           0\n",
       "NOC            0\n",
       "Games          0\n",
       "Year           0\n",
       "Season         0\n",
       "City           0\n",
       "Sport          0\n",
       "Event          0\n",
       "Medal     231333\n",
       "region       370\n",
       "notes     266077\n",
       "dtype: int64"
      ]
     },
     "execution_count": 9,
     "metadata": {},
     "output_type": "execute_result"
    }
   ],
   "source": [
    "# lets check for missing values\n",
    "df_merged.isnull().sum()"
   ]
  },
  {
   "cell_type": "markdown",
   "metadata": {},
   "source": [
    "#### From the above code,its clearly shows that \"Age\", \"Height\", \"Weight\" and \"Medal\" are the only columns that have missing values. But, missing values in \"Medal\" column doesn't mean the actual missing values. It might be mostly due to the players who didn't win any medal for the particular even. Therefore, while imputing the values its recommended to impute values only to \"Age\", \"Height\" and \"Weight\" columns in the dataset."
   ]
  },
  {
   "cell_type": "code",
   "execution_count": 10,
   "metadata": {
    "execution": {
     "iopub.execute_input": "2021-08-18T15:27:06.859585Z",
     "iopub.status.busy": "2021-08-18T15:27:06.859300Z",
     "iopub.status.idle": "2021-08-18T15:27:06.942140Z",
     "shell.execute_reply": "2021-08-18T15:27:06.941114Z",
     "shell.execute_reply.started": "2021-08-18T15:27:06.859558Z"
    }
   },
   "outputs": [
    {
     "data": {
      "text/plain": [
       "United States    17847\n",
       "France           11988\n",
       "Great Britain    11404\n",
       "Italy            10260\n",
       "Germany           9326\n",
       "Canada            9279\n",
       "Japan             8289\n",
       "Sweden            8052\n",
       "Australia         7513\n",
       "Hungary           6547\n",
       "Name: Team, dtype: int64"
      ]
     },
     "execution_count": 10,
     "metadata": {},
     "output_type": "execute_result"
    }
   ],
   "source": [
    "# Top countries participating\n",
    "top_10_countries = df_merged['Team'].value_counts().nlargest(10)\n",
    "top_10_countries"
   ]
  },
  {
   "cell_type": "code",
   "execution_count": 11,
   "metadata": {
    "execution": {
     "iopub.execute_input": "2021-08-18T15:27:06.943987Z",
     "iopub.status.busy": "2021-08-18T15:27:06.943452Z",
     "iopub.status.idle": "2021-08-18T15:27:07.220717Z",
     "shell.execute_reply": "2021-08-18T15:27:07.219714Z",
     "shell.execute_reply.started": "2021-08-18T15:27:06.943925Z"
    }
   },
   "outputs": [
    {
     "data": {
      "image/png": "[encoded data removed]",
      "text/plain": [
       "<Figure size 864x432 with 1 Axes>"
      ]
     },
     "metadata": {
      "needs_background": "light"
     },
     "output_type": "display_data"
    }
   ],
   "source": [
    "# plot for top 10 countries\n",
    "plt.figure(figsize=(12,6))\n",
    "sns.barplot(x = top_10_countries.index,y = top_10_countries)\n",
    "plt.xlabel('Teams')\n",
    "plt.ylabel('Count of Team Participation')\n",
    "plt.title('Top 10 Countries Participated In Olympics')\n",
    "plt.show()"
   ]
  },
  {
   "cell_type": "code",
   "execution_count": 12,
   "metadata": {
    "execution": {
     "iopub.execute_input": "2021-08-18T15:27:07.222711Z",
     "iopub.status.busy": "2021-08-18T15:27:07.222316Z",
     "iopub.status.idle": "2021-08-18T15:27:08.854698Z",
     "shell.execute_reply": "2021-08-18T15:27:08.853815Z",
     "shell.execute_reply.started": "2021-08-18T15:27:07.222668Z"
    }
   },
   "outputs": [
    {
     "data": {
      "image/png": "[encoded data removed]",
      "text/plain": [
       "<Figure size 864x432 with 1 Axes>"
      ]
     },
     "metadata": {
      "needs_background": "light"
     },
     "output_type": "display_data"
    }
   ],
   "source": [
    "# Age distribution of the participants\n",
    "plt.figure(figsize=(12,6))\n",
    "sns.distplot(df_merged.Age)\n",
    "plt.xlabel('Age')\n",
    "plt.title('Age Distribution')\n",
    "plt.show()"
   ]
  },
  {
   "cell_type": "markdown",
   "metadata": {},
   "source": [
    "#### We have most number of athletes who have age between 20 to 40 years."
   ]
  },
  {
   "cell_type": "code",
   "execution_count": 13,
   "metadata": {
    "execution": {
     "iopub.execute_input": "2021-08-18T15:27:08.856485Z",
     "iopub.status.busy": "2021-08-18T15:27:08.856146Z",
     "iopub.status.idle": "2021-08-18T15:27:08.918663Z",
     "shell.execute_reply": "2021-08-18T15:27:08.917559Z",
     "shell.execute_reply.started": "2021-08-18T15:27:08.856448Z"
    }
   },
   "outputs": [
    {
     "data": {
      "text/plain": [
       "array(['Speed Skating', 'Cross Country Skiing', 'Ice Hockey', 'Biathlon',\n",
       "       'Alpine Skiing', 'Luge', 'Bobsleigh', 'Figure Skating',\n",
       "       'Nordic Combined', 'Freestyle Skiing', 'Ski Jumping', 'Curling',\n",
       "       'Snowboarding', 'Short Track Speed Skating', 'Skeleton',\n",
       "       'Military Ski Patrol', 'Alpinism'], dtype=object)"
      ]
     },
     "execution_count": 13,
     "metadata": {},
     "output_type": "execute_result"
    }
   ],
   "source": [
    "# winter olympic sports\n",
    "winter_sports = df_merged[df_merged['Season'] == 'Winter'].Sport.unique()\n",
    "winter_sports"
   ]
  },
  {
   "cell_type": "code",
   "execution_count": 14,
   "metadata": {
    "execution": {
     "iopub.execute_input": "2021-08-18T15:27:08.920677Z",
     "iopub.status.busy": "2021-08-18T15:27:08.920270Z",
     "iopub.status.idle": "2021-08-18T15:27:09.064509Z",
     "shell.execute_reply": "2021-08-18T15:27:09.063496Z",
     "shell.execute_reply.started": "2021-08-18T15:27:08.920634Z"
    }
   },
   "outputs": [
    {
     "data": {
      "text/plain": [
       "array(['Basketball', 'Judo', 'Football', 'Tug-Of-War', 'Athletics',\n",
       "       'Swimming', 'Badminton', 'Sailing', 'Gymnastics',\n",
       "       'Art Competitions', 'Handball', 'Weightlifting', 'Wrestling',\n",
       "       'Water Polo', 'Hockey', 'Rowing', 'Fencing', 'Equestrianism',\n",
       "       'Shooting', 'Boxing', 'Taekwondo', 'Cycling', 'Diving', 'Canoeing',\n",
       "       'Tennis', 'Modern Pentathlon', 'Golf', 'Softball', 'Archery',\n",
       "       'Volleyball', 'Synchronized Swimming', 'Table Tennis', 'Baseball',\n",
       "       'Rhythmic Gymnastics', 'Rugby Sevens', 'Trampolining',\n",
       "       'Beach Volleyball', 'Triathlon', 'Rugby', 'Lacrosse', 'Polo',\n",
       "       'Cricket', 'Ice Hockey', 'Racquets', 'Motorboating', 'Croquet',\n",
       "       'Figure Skating', 'Jeu De Paume', 'Roque', 'Basque Pelota',\n",
       "       'Alpinism', 'Aeronautics'], dtype=object)"
      ]
     },
     "execution_count": 14,
     "metadata": {},
     "output_type": "execute_result"
    }
   ],
   "source": [
    "# summer olympic sports\n",
    "summer_sports = df_merged[df_merged['Season'] == 'Summer'].Sport.unique()\n",
    "summer_sports"
   ]
  },
  {
   "cell_type": "markdown",
   "metadata": {},
   "source": [
    "### Total team, regions/NOC, events in summer olympics and winter olympics"
   ]
  },
  {
   "cell_type": "code",
   "execution_count": 15,
   "metadata": {
    "execution": {
     "iopub.execute_input": "2021-08-18T15:27:09.067195Z",
     "iopub.status.busy": "2021-08-18T15:27:09.066531Z",
     "iopub.status.idle": "2021-08-18T15:27:09.466924Z",
     "shell.execute_reply": "2021-08-18T15:27:09.465960Z",
     "shell.execute_reply.started": "2021-08-18T15:27:09.067145Z"
    }
   },
   "outputs": [
    {
     "data": {
      "text/html": [
       "<div>\n",
       "<style scoped>\n",
       "    .dataframe tbody tr th:only-of-type {\n",
       "        vertical-align: middle;\n",
       "    }\n",
       "\n",
       "    .dataframe tbody tr th {\n",
       "        vertical-align: top;\n",
       "    }\n",
       "\n",
       "    .dataframe thead th {\n",
       "        text-align: right;\n",
       "    }\n",
       "</style>\n",
       "<table border=\"1\" class=\"dataframe\">\n",
       "  <thead>\n",
       "    <tr style=\"text-align: right;\">\n",
       "      <th></th>\n",
       "      <th>Season</th>\n",
       "      <th>Team</th>\n",
       "      <th>NOC</th>\n",
       "      <th>Event</th>\n",
       "      <th>City</th>\n",
       "      <th>Sport</th>\n",
       "    </tr>\n",
       "  </thead>\n",
       "  <tbody>\n",
       "    <tr>\n",
       "      <th>0</th>\n",
       "      <td>Summer</td>\n",
       "      <td>1157</td>\n",
       "      <td>230</td>\n",
       "      <td>651</td>\n",
       "      <td>23</td>\n",
       "      <td>52</td>\n",
       "    </tr>\n",
       "    <tr>\n",
       "      <th>1</th>\n",
       "      <td>Winter</td>\n",
       "      <td>221</td>\n",
       "      <td>119</td>\n",
       "      <td>119</td>\n",
       "      <td>19</td>\n",
       "      <td>17</td>\n",
       "    </tr>\n",
       "  </tbody>\n",
       "</table>\n",
       "</div>"
      ],
      "text/plain": [
       "   Season  Team  NOC  Event  City  Sport\n",
       "0  Summer  1157  230    651    23     52\n",
       "1  Winter   221  119    119    19     17"
      ]
     },
     "execution_count": 15,
     "metadata": {},
     "output_type": "execute_result"
    }
   ],
   "source": [
    "total_count = df_merged.groupby(\"Season\")[[\"Team\", \"NOC\", \"Event\", \"City\", \"Sport\"]].nunique().reset_index()\n",
    "total_count"
   ]
  },
  {
   "cell_type": "code",
   "execution_count": 16,
   "metadata": {
    "execution": {
     "iopub.execute_input": "2021-08-18T15:27:09.469258Z",
     "iopub.status.busy": "2021-08-18T15:27:09.468549Z",
     "iopub.status.idle": "2021-08-18T15:27:09.818785Z",
     "shell.execute_reply": "2021-08-18T15:27:09.817977Z",
     "shell.execute_reply.started": "2021-08-18T15:27:09.469215Z"
    }
   },
   "outputs": [
    {
     "data": {
      "image/png": "[encoded data removed]",
      "text/plain": [
       "<Figure size 864x432 with 1 Axes>"
      ]
     },
     "metadata": {
      "needs_background": "light"
     },
     "output_type": "display_data"
    }
   ],
   "source": [
    "tidy = total_count.melt(id_vars='Season').rename(columns=str.title)\n",
    "\n",
    "plt.subplots(figsize=(12, 6))\n",
    "sns.barplot(x='Season', y='Value', hue='Variable', data=tidy)\n",
    "plt.title('Total Count In Different Season')\n",
    "plt.ylabel(\"Athelete count\")\n",
    "plt.show()"
   ]
  },
  {
   "cell_type": "code",
   "execution_count": 17,
   "metadata": {
    "execution": {
     "iopub.execute_input": "2021-08-18T15:27:09.820608Z",
     "iopub.status.busy": "2021-08-18T15:27:09.820238Z",
     "iopub.status.idle": "2021-08-18T15:27:09.885171Z",
     "shell.execute_reply": "2021-08-18T15:27:09.883846Z",
     "shell.execute_reply.started": "2021-08-18T15:27:09.820571Z"
    }
   },
   "outputs": [
    {
     "data": {
      "text/plain": [
       "M    196594\n",
       "F     74522\n",
       "Name: Sex, dtype: int64"
      ]
     },
     "execution_count": 17,
     "metadata": {},
     "output_type": "execute_result"
    }
   ],
   "source": [
    "# male and female participants\n",
    "gender_counts = df_merged.Sex.value_counts()\n",
    "gender_counts"
   ]
  },
  {
   "cell_type": "markdown",
   "metadata": {},
   "source": [
    "#### Since Inception of olympics, we have more number of male participants than female participants."
   ]
  },
  {
   "cell_type": "code",
   "execution_count": 18,
   "metadata": {
    "execution": {
     "iopub.execute_input": "2021-08-18T15:27:09.887821Z",
     "iopub.status.busy": "2021-08-18T15:27:09.887211Z",
     "iopub.status.idle": "2021-08-18T15:27:10.018036Z",
     "shell.execute_reply": "2021-08-18T15:27:10.017053Z",
     "shell.execute_reply.started": "2021-08-18T15:27:09.887779Z"
    }
   },
   "outputs": [
    {
     "data": {
      "image/png": "[encoded data removed]",
      "text/plain": [
       "<Figure size 864x432 with 1 Axes>"
      ]
     },
     "metadata": {},
     "output_type": "display_data"
    }
   ],
   "source": [
    "# pie chart for male and female participants\n",
    "plt.figure(figsize=(12,6))\n",
    "plt.pie(gender_counts,labels = gender_counts.index, autopct = '%1.1f%%',startangle=150,shadow=True )\n",
    "plt.title('Gender Distribution')\n",
    "plt.show()"
   ]
  },
  {
   "cell_type": "markdown",
   "metadata": {},
   "source": [
    "### Distribution according to sex in both season"
   ]
  },
  {
   "cell_type": "code",
   "execution_count": 19,
   "metadata": {
    "execution": {
     "iopub.execute_input": "2021-08-18T15:27:10.020108Z",
     "iopub.status.busy": "2021-08-18T15:27:10.019721Z",
     "iopub.status.idle": "2021-08-18T15:27:10.678928Z",
     "shell.execute_reply": "2021-08-18T15:27:10.677766Z",
     "shell.execute_reply.started": "2021-08-18T15:27:10.020069Z"
    }
   },
   "outputs": [
    {
     "data": {
      "image/png": "[encoded data removed]",
      "text/plain": [
       "<Figure size 864x432 with 1 Axes>"
      ]
     },
     "metadata": {
      "needs_background": "light"
     },
     "output_type": "display_data"
    }
   ],
   "source": [
    "plt.figure(figsize=(12,6))\n",
    "sns.countplot(x=\"Season\", hue=\"Sex\", data=df_merged)\n",
    "plt.title('Participation of male and female athelete in both season')\n",
    "plt.ylabel(\"Athelete count\")\n",
    "plt.show()"
   ]
  },
  {
   "cell_type": "code",
   "execution_count": 20,
   "metadata": {
    "execution": {
     "iopub.execute_input": "2021-08-18T15:27:10.680873Z",
     "iopub.status.busy": "2021-08-18T15:27:10.680484Z",
     "iopub.status.idle": "2021-08-18T15:27:10.716922Z",
     "shell.execute_reply": "2021-08-18T15:27:10.715821Z",
     "shell.execute_reply.started": "2021-08-18T15:27:10.680834Z"
    }
   },
   "outputs": [
    {
     "data": {
      "text/plain": [
       "Gold      13372\n",
       "Bronze    13295\n",
       "Silver    13116\n",
       "Name: Medal, dtype: int64"
      ]
     },
     "execution_count": 20,
     "metadata": {},
     "output_type": "execute_result"
    }
   ],
   "source": [
    "# Total medals\n",
    "df_merged.Medal.value_counts()"
   ]
  },
  {
   "cell_type": "code",
   "execution_count": 21,
   "metadata": {
    "execution": {
     "iopub.execute_input": "2021-08-18T15:27:10.719165Z",
     "iopub.status.busy": "2021-08-18T15:27:10.718664Z",
     "iopub.status.idle": "2021-08-18T15:27:11.319538Z",
     "shell.execute_reply": "2021-08-18T15:27:11.318504Z",
     "shell.execute_reply.started": "2021-08-18T15:27:10.719121Z"
    }
   },
   "outputs": [
    {
     "data": {
      "image/png": "[encoded data removed]",
      "text/plain": [
       "<Figure size 1332x756 with 1 Axes>"
      ]
     },
     "metadata": {
      "needs_background": "light"
     },
     "output_type": "display_data"
    }
   ],
   "source": [
    "# Medals for Top 20 countries in summer olympics\n",
    "total_medals_by_country = df_merged[df_merged['Season']=='Summer'].groupby(['region','Medal'])['Sex'].count().reset_index()\n",
    "total_medals_by_country=total_medals_by_country.pivot('region','Medal','Sex').fillna(0).sort_values(by='Gold',ascending=False).head(20)\n",
    "#total_medals_by_country\n",
    "total_medals_by_country.plot(kind='bar')\n",
    "fig = plt.gcf()\n",
    "fig.set_size_inches(18.5, 10.5)\n",
    "plt.xticks(rotation=90)\n",
    "plt.xlabel('Country')\n",
    "plt.ylabel(\"Athelete count\")\n",
    "plt.title('Medals by Country- Summer Olympics ')\n",
    "plt.show()"
   ]
  },
  {
   "cell_type": "code",
   "execution_count": 22,
   "metadata": {
    "execution": {
     "iopub.execute_input": "2021-08-18T15:27:11.321416Z",
     "iopub.status.busy": "2021-08-18T15:27:11.321077Z",
     "iopub.status.idle": "2021-08-18T15:27:11.595161Z",
     "shell.execute_reply": "2021-08-18T15:27:11.594124Z",
     "shell.execute_reply.started": "2021-08-18T15:27:11.321380Z"
    }
   },
   "outputs": [
    {
     "data": {
      "image/png": "[encoded data removed]",
      "text/plain": [
       "<Figure size 1080x720 with 1 Axes>"
      ]
     },
     "metadata": {
      "needs_background": "light"
     },
     "output_type": "display_data"
    }
   ],
   "source": [
    "# Atheletes Participated in Summer Olympics\n",
    "athletes_per_year = df_merged[df_merged['Season']=='Summer'].groupby('Year')['ID'].count().reset_index()\n",
    "\n",
    "plt.figure(figsize=(15, 10))\n",
    "sns.lineplot(data=athletes_per_year, x=\"Year\", y=\"ID\")\n",
    "plt.xlabel('Year')\n",
    "plt.ylabel('No of Athletes')\n",
    "plt.show()"
   ]
  },
  {
   "cell_type": "code",
   "execution_count": 23,
   "metadata": {
    "execution": {
     "iopub.execute_input": "2021-08-18T15:27:11.601045Z",
     "iopub.status.busy": "2021-08-18T15:27:11.600736Z",
     "iopub.status.idle": "2021-08-18T15:27:11.713078Z",
     "shell.execute_reply": "2021-08-18T15:27:11.712065Z",
     "shell.execute_reply.started": "2021-08-18T15:27:11.601015Z"
    }
   },
   "outputs": [
    {
     "data": {
      "text/html": [
       "<div>\n",
       "<style scoped>\n",
       "    .dataframe tbody tr th:only-of-type {\n",
       "        vertical-align: middle;\n",
       "    }\n",
       "\n",
       "    .dataframe tbody tr th {\n",
       "        vertical-align: top;\n",
       "    }\n",
       "\n",
       "    .dataframe thead th {\n",
       "        text-align: right;\n",
       "    }\n",
       "</style>\n",
       "<table border=\"1\" class=\"dataframe\">\n",
       "  <thead>\n",
       "    <tr style=\"text-align: right;\">\n",
       "      <th></th>\n",
       "      <th>Year</th>\n",
       "      <th>Sex</th>\n",
       "    </tr>\n",
       "  </thead>\n",
       "  <tbody>\n",
       "    <tr>\n",
       "      <th>0</th>\n",
       "      <td>1900</td>\n",
       "      <td>33</td>\n",
       "    </tr>\n",
       "    <tr>\n",
       "      <th>1</th>\n",
       "      <td>1904</td>\n",
       "      <td>16</td>\n",
       "    </tr>\n",
       "    <tr>\n",
       "      <th>2</th>\n",
       "      <td>1906</td>\n",
       "      <td>11</td>\n",
       "    </tr>\n",
       "    <tr>\n",
       "      <th>3</th>\n",
       "      <td>1908</td>\n",
       "      <td>47</td>\n",
       "    </tr>\n",
       "    <tr>\n",
       "      <th>4</th>\n",
       "      <td>1912</td>\n",
       "      <td>87</td>\n",
       "    </tr>\n",
       "  </tbody>\n",
       "</table>\n",
       "</div>"
      ],
      "text/plain": [
       "   Year  Sex\n",
       "0  1900   33\n",
       "1  1904   16\n",
       "2  1906   11\n",
       "3  1908   47\n",
       "4  1912   87"
      ]
     },
     "execution_count": 23,
     "metadata": {},
     "output_type": "execute_result"
    }
   ],
   "source": [
    "# total number of female athletes in summer olympics\n",
    "female_participants = df_merged[(df_merged['Sex'] == 'F') & (df_merged['Season'] == 'Summer')][['Sex','Year']]\n",
    "female_participants = female_participants.groupby('Year').count().reset_index()\n",
    "female_participants.head()"
   ]
  },
  {
   "cell_type": "markdown",
   "metadata": {},
   "source": [
    "Let's look at this graphically to get a better understanding about it."
   ]
  },
  {
   "cell_type": "code",
   "execution_count": 24,
   "metadata": {
    "execution": {
     "iopub.execute_input": "2021-08-18T15:27:11.715999Z",
     "iopub.status.busy": "2021-08-18T15:27:11.715551Z",
     "iopub.status.idle": "2021-08-18T15:27:12.139926Z",
     "shell.execute_reply": "2021-08-18T15:27:12.138814Z",
     "shell.execute_reply.started": "2021-08-18T15:27:11.715944Z"
    }
   },
   "outputs": [
    {
     "data": {
      "image/png": "[encoded data removed]",
      "text/plain": [
       "<Figure size 864x432 with 1 Axes>"
      ]
     },
     "metadata": {
      "needs_background": "light"
     },
     "output_type": "display_data"
    }
   ],
   "source": [
    "# female athletes in summer olympics\n",
    "women_olympics = df_merged[(df_merged['Sex'] == 'F') & (df_merged['Season'] == 'Summer')]\n",
    "\n",
    "# count plot for women participation\n",
    "plt.figure(figsize=(12,6))\n",
    "sns.countplot(x='Year',data=women_olympics)\n",
    "plt.title('Women Participation In Summer Olympics')\n",
    "plt.xticks(rotation=90)\n",
    "plt.show()"
   ]
  },
  {
   "cell_type": "code",
   "execution_count": 25,
   "metadata": {
    "execution": {
     "iopub.execute_input": "2021-08-18T15:27:12.142030Z",
     "iopub.status.busy": "2021-08-18T15:27:12.141615Z",
     "iopub.status.idle": "2021-08-18T15:27:12.190686Z",
     "shell.execute_reply": "2021-08-18T15:27:12.189788Z",
     "shell.execute_reply.started": "2021-08-18T15:27:12.141985Z"
    }
   },
   "outputs": [
    {
     "data": {
      "text/html": [
       "<div>\n",
       "<style scoped>\n",
       "    .dataframe tbody tr th:only-of-type {\n",
       "        vertical-align: middle;\n",
       "    }\n",
       "\n",
       "    .dataframe tbody tr th {\n",
       "        vertical-align: top;\n",
       "    }\n",
       "\n",
       "    .dataframe thead th {\n",
       "        text-align: right;\n",
       "    }\n",
       "</style>\n",
       "<table border=\"1\" class=\"dataframe\">\n",
       "  <thead>\n",
       "    <tr style=\"text-align: right;\">\n",
       "      <th></th>\n",
       "      <th>ID</th>\n",
       "      <th>Name</th>\n",
       "      <th>Sex</th>\n",
       "      <th>Age</th>\n",
       "      <th>Height</th>\n",
       "      <th>Weight</th>\n",
       "      <th>Team</th>\n",
       "      <th>NOC</th>\n",
       "      <th>Games</th>\n",
       "      <th>Year</th>\n",
       "      <th>Season</th>\n",
       "      <th>City</th>\n",
       "      <th>Sport</th>\n",
       "      <th>Event</th>\n",
       "      <th>Medal</th>\n",
       "      <th>region</th>\n",
       "      <th>notes</th>\n",
       "    </tr>\n",
       "  </thead>\n",
       "  <tbody>\n",
       "    <tr>\n",
       "      <th>3</th>\n",
       "      <td>4</td>\n",
       "      <td>Edgar Lindenau Aabye</td>\n",
       "      <td>M</td>\n",
       "      <td>34.0</td>\n",
       "      <td>NaN</td>\n",
       "      <td>NaN</td>\n",
       "      <td>Denmark/Sweden</td>\n",
       "      <td>DEN</td>\n",
       "      <td>1900 Summer</td>\n",
       "      <td>1900</td>\n",
       "      <td>Summer</td>\n",
       "      <td>Paris</td>\n",
       "      <td>Tug-Of-War</td>\n",
       "      <td>Tug-Of-War Men's Tug-Of-War</td>\n",
       "      <td>Gold</td>\n",
       "      <td>Denmark</td>\n",
       "      <td>NaN</td>\n",
       "    </tr>\n",
       "    <tr>\n",
       "      <th>42</th>\n",
       "      <td>17</td>\n",
       "      <td>Paavo Johannes Aaltonen</td>\n",
       "      <td>M</td>\n",
       "      <td>28.0</td>\n",
       "      <td>175.0</td>\n",
       "      <td>64.0</td>\n",
       "      <td>Finland</td>\n",
       "      <td>FIN</td>\n",
       "      <td>1948 Summer</td>\n",
       "      <td>1948</td>\n",
       "      <td>Summer</td>\n",
       "      <td>London</td>\n",
       "      <td>Gymnastics</td>\n",
       "      <td>Gymnastics Men's Team All-Around</td>\n",
       "      <td>Gold</td>\n",
       "      <td>Finland</td>\n",
       "      <td>NaN</td>\n",
       "    </tr>\n",
       "    <tr>\n",
       "      <th>44</th>\n",
       "      <td>17</td>\n",
       "      <td>Paavo Johannes Aaltonen</td>\n",
       "      <td>M</td>\n",
       "      <td>28.0</td>\n",
       "      <td>175.0</td>\n",
       "      <td>64.0</td>\n",
       "      <td>Finland</td>\n",
       "      <td>FIN</td>\n",
       "      <td>1948 Summer</td>\n",
       "      <td>1948</td>\n",
       "      <td>Summer</td>\n",
       "      <td>London</td>\n",
       "      <td>Gymnastics</td>\n",
       "      <td>Gymnastics Men's Horse Vault</td>\n",
       "      <td>Gold</td>\n",
       "      <td>Finland</td>\n",
       "      <td>NaN</td>\n",
       "    </tr>\n",
       "    <tr>\n",
       "      <th>48</th>\n",
       "      <td>17</td>\n",
       "      <td>Paavo Johannes Aaltonen</td>\n",
       "      <td>M</td>\n",
       "      <td>28.0</td>\n",
       "      <td>175.0</td>\n",
       "      <td>64.0</td>\n",
       "      <td>Finland</td>\n",
       "      <td>FIN</td>\n",
       "      <td>1948 Summer</td>\n",
       "      <td>1948</td>\n",
       "      <td>Summer</td>\n",
       "      <td>London</td>\n",
       "      <td>Gymnastics</td>\n",
       "      <td>Gymnastics Men's Pommelled Horse</td>\n",
       "      <td>Gold</td>\n",
       "      <td>Finland</td>\n",
       "      <td>NaN</td>\n",
       "    </tr>\n",
       "    <tr>\n",
       "      <th>60</th>\n",
       "      <td>20</td>\n",
       "      <td>Kjetil Andr Aamodt</td>\n",
       "      <td>M</td>\n",
       "      <td>20.0</td>\n",
       "      <td>176.0</td>\n",
       "      <td>85.0</td>\n",
       "      <td>Norway</td>\n",
       "      <td>NOR</td>\n",
       "      <td>1992 Winter</td>\n",
       "      <td>1992</td>\n",
       "      <td>Winter</td>\n",
       "      <td>Albertville</td>\n",
       "      <td>Alpine Skiing</td>\n",
       "      <td>Alpine Skiing Men's Super G</td>\n",
       "      <td>Gold</td>\n",
       "      <td>Norway</td>\n",
       "      <td>NaN</td>\n",
       "    </tr>\n",
       "  </tbody>\n",
       "</table>\n",
       "</div>"
      ],
      "text/plain": [
       "    ID                     Name Sex   Age  Height  Weight            Team  \\\n",
       "3    4     Edgar Lindenau Aabye   M  34.0     NaN     NaN  Denmark/Sweden   \n",
       "42  17  Paavo Johannes Aaltonen   M  28.0   175.0    64.0         Finland   \n",
       "44  17  Paavo Johannes Aaltonen   M  28.0   175.0    64.0         Finland   \n",
       "48  17  Paavo Johannes Aaltonen   M  28.0   175.0    64.0         Finland   \n",
       "60  20       Kjetil Andr Aamodt   M  20.0   176.0    85.0          Norway   \n",
       "\n",
       "    NOC        Games  Year  Season         City          Sport  \\\n",
       "3   DEN  1900 Summer  1900  Summer        Paris     Tug-Of-War   \n",
       "42  FIN  1948 Summer  1948  Summer       London     Gymnastics   \n",
       "44  FIN  1948 Summer  1948  Summer       London     Gymnastics   \n",
       "48  FIN  1948 Summer  1948  Summer       London     Gymnastics   \n",
       "60  NOR  1992 Winter  1992  Winter  Albertville  Alpine Skiing   \n",
       "\n",
       "                               Event Medal   region notes  \n",
       "3        Tug-Of-War Men's Tug-Of-War  Gold  Denmark   NaN  \n",
       "42  Gymnastics Men's Team All-Around  Gold  Finland   NaN  \n",
       "44      Gymnastics Men's Horse Vault  Gold  Finland   NaN  \n",
       "48  Gymnastics Men's Pommelled Horse  Gold  Finland   NaN  \n",
       "60       Alpine Skiing Men's Super G  Gold   Norway   NaN  "
      ]
     },
     "execution_count": 25,
     "metadata": {},
     "output_type": "execute_result"
    }
   ],
   "source": [
    "# Gold medal athletes\n",
    "goldMedals = df_merged[df_merged['Medal'] == 'Gold']\n",
    "goldMedals.head()"
   ]
  },
  {
   "cell_type": "code",
   "execution_count": 26,
   "metadata": {
    "execution": {
     "iopub.execute_input": "2021-08-18T15:27:12.192509Z",
     "iopub.status.busy": "2021-08-18T15:27:12.192121Z",
     "iopub.status.idle": "2021-08-18T15:27:12.201638Z",
     "shell.execute_reply": "2021-08-18T15:27:12.200533Z",
     "shell.execute_reply.started": "2021-08-18T15:27:12.192468Z"
    }
   },
   "outputs": [],
   "source": [
    "# gold medalist where age is not null\n",
    "goldMedals = goldMedals[np.isfinite(goldMedals['Age'])]"
   ]
  },
  {
   "cell_type": "code",
   "execution_count": 27,
   "metadata": {
    "execution": {
     "iopub.execute_input": "2021-08-18T15:27:12.203856Z",
     "iopub.status.busy": "2021-08-18T15:27:12.203314Z",
     "iopub.status.idle": "2021-08-18T15:27:12.215938Z",
     "shell.execute_reply": "2021-08-18T15:27:12.214766Z",
     "shell.execute_reply.started": "2021-08-18T15:27:12.203776Z"
    }
   },
   "outputs": [
    {
     "data": {
      "text/plain": [
       "6"
      ]
     },
     "execution_count": 27,
     "metadata": {},
     "output_type": "execute_result"
    }
   ],
   "source": [
    "# Gold beyond 60\n",
    "goldMedals[goldMedals['Age'] > 60]['ID'].count()"
   ]
  },
  {
   "cell_type": "markdown",
   "metadata": {},
   "source": [
    "#### 6 people who are above 60 won a gold medal."
   ]
  },
  {
   "cell_type": "code",
   "execution_count": 28,
   "metadata": {
    "execution": {
     "iopub.execute_input": "2021-08-18T15:27:12.217866Z",
     "iopub.status.busy": "2021-08-18T15:27:12.217428Z",
     "iopub.status.idle": "2021-08-18T15:27:12.231211Z",
     "shell.execute_reply": "2021-08-18T15:27:12.230237Z",
     "shell.execute_reply.started": "2021-08-18T15:27:12.217823Z"
    }
   },
   "outputs": [
    {
     "data": {
      "text/plain": [
       "104003    Art Competitions\n",
       "105199               Roque\n",
       "190952             Archery\n",
       "226374             Archery\n",
       "233390            Shooting\n",
       "261102             Archery\n",
       "Name: Sport, dtype: object"
      ]
     },
     "execution_count": 28,
     "metadata": {},
     "output_type": "execute_result"
    }
   ],
   "source": [
    "# participation of gold medalist over 60 years in different sports\n",
    "sporting_event = goldMedals[goldMedals['Age'] > 60]['Sport']\n",
    "sporting_event"
   ]
  },
  {
   "cell_type": "code",
   "execution_count": 29,
   "metadata": {
    "execution": {
     "iopub.execute_input": "2021-08-18T15:27:12.233211Z",
     "iopub.status.busy": "2021-08-18T15:27:12.232752Z",
     "iopub.status.idle": "2021-08-18T15:27:12.387730Z",
     "shell.execute_reply": "2021-08-18T15:27:12.386737Z",
     "shell.execute_reply.started": "2021-08-18T15:27:12.233168Z"
    }
   },
   "outputs": [
    {
     "data": {
      "image/png": "[encoded data removed]",
      "text/plain": [
       "<Figure size 864x432 with 1 Axes>"
      ]
     },
     "metadata": {
      "needs_background": "light"
     },
     "output_type": "display_data"
    }
   ],
   "source": [
    "# plot for sporting event\n",
    "\n",
    "plt.figure(figsize=(12,6))\n",
    "sns.countplot(sporting_event)\n",
    "plt.title('Gold Medal for athlete over 60 years')\n",
    "plt.show()"
   ]
  },
  {
   "cell_type": "markdown",
   "metadata": {},
   "source": [
    "#### So the 3 people won medals for Archery."
   ]
  },
  {
   "cell_type": "code",
   "execution_count": 30,
   "metadata": {
    "execution": {
     "iopub.execute_input": "2021-08-18T15:27:12.389651Z",
     "iopub.status.busy": "2021-08-18T15:27:12.389275Z",
     "iopub.status.idle": "2021-08-18T15:27:12.404749Z",
     "shell.execute_reply": "2021-08-18T15:27:12.403437Z",
     "shell.execute_reply.started": "2021-08-18T15:27:12.389611Z"
    }
   },
   "outputs": [
    {
     "data": {
      "text/html": [
       "<div>\n",
       "<style scoped>\n",
       "    .dataframe tbody tr th:only-of-type {\n",
       "        vertical-align: middle;\n",
       "    }\n",
       "\n",
       "    .dataframe tbody tr th {\n",
       "        vertical-align: top;\n",
       "    }\n",
       "\n",
       "    .dataframe thead th {\n",
       "        text-align: right;\n",
       "    }\n",
       "</style>\n",
       "<table border=\"1\" class=\"dataframe\">\n",
       "  <thead>\n",
       "    <tr style=\"text-align: right;\">\n",
       "      <th></th>\n",
       "      <th>index</th>\n",
       "      <th>Medal</th>\n",
       "    </tr>\n",
       "  </thead>\n",
       "  <tbody>\n",
       "    <tr>\n",
       "      <th>0</th>\n",
       "      <td>USA</td>\n",
       "      <td>2627</td>\n",
       "    </tr>\n",
       "    <tr>\n",
       "      <th>1</th>\n",
       "      <td>Russia</td>\n",
       "      <td>1599</td>\n",
       "    </tr>\n",
       "    <tr>\n",
       "      <th>2</th>\n",
       "      <td>Germany</td>\n",
       "      <td>1293</td>\n",
       "    </tr>\n",
       "    <tr>\n",
       "      <th>3</th>\n",
       "      <td>UK</td>\n",
       "      <td>657</td>\n",
       "    </tr>\n",
       "    <tr>\n",
       "      <th>4</th>\n",
       "      <td>Italy</td>\n",
       "      <td>567</td>\n",
       "    </tr>\n",
       "  </tbody>\n",
       "</table>\n",
       "</div>"
      ],
      "text/plain": [
       "     index  Medal\n",
       "0      USA   2627\n",
       "1   Russia   1599\n",
       "2  Germany   1293\n",
       "3       UK    657\n",
       "4    Italy    567"
      ]
     },
     "execution_count": 30,
     "metadata": {},
     "output_type": "execute_result"
    }
   ],
   "source": [
    "# Gold medal for each country\n",
    "goldMedals.region.value_counts().reset_index(name='Medal').head()"
   ]
  },
  {
   "cell_type": "markdown",
   "metadata": {},
   "source": [
    "#### It is clear from the above table that maximum medals was won by USA followed by Russia.\n",
    "\n",
    "Let's look at this graphically to get a better understanding about it."
   ]
  },
  {
   "cell_type": "code",
   "execution_count": 31,
   "metadata": {
    "execution": {
     "iopub.execute_input": "2021-08-18T15:27:12.407115Z",
     "iopub.status.busy": "2021-08-18T15:27:12.406612Z",
     "iopub.status.idle": "2021-08-18T15:27:12.675006Z",
     "shell.execute_reply": "2021-08-18T15:27:12.674164Z",
     "shell.execute_reply.started": "2021-08-18T15:27:12.407066Z"
    }
   },
   "outputs": [
    {
     "data": {
      "image/png": "[encoded data removed]",
      "text/plain": [
       "<Figure size 360x360 with 1 Axes>"
      ]
     },
     "metadata": {
      "needs_background": "light"
     },
     "output_type": "display_data"
    }
   ],
   "source": [
    "totalGoldMedals = goldMedals.region.value_counts().reset_index(name='Medal').head()\n",
    "\n",
    "\n",
    "sns.catplot(x='index',y='Medal',data=totalGoldMedals,\n",
    "           height=5,kind='bar')\n",
    "plt.xlabel('Top 5 Countries')\n",
    "plt.ylabel('Number of Gold Medals')\n",
    "plt.title('Gold Medals per Country')\n",
    "plt.show()"
   ]
  },
  {
   "cell_type": "markdown",
   "metadata": {},
   "source": [
    "#### This clearly shows USA bagged the maximum number of medals here.\n",
    "\n",
    "Lets try to find in which sport did USA won maximum gold medals"
   ]
  },
  {
   "cell_type": "code",
   "execution_count": 32,
   "metadata": {
    "execution": {
     "iopub.execute_input": "2021-08-18T15:27:12.676571Z",
     "iopub.status.busy": "2021-08-18T15:27:12.676226Z",
     "iopub.status.idle": "2021-08-18T15:27:12.685626Z",
     "shell.execute_reply": "2021-08-18T15:27:12.684709Z",
     "shell.execute_reply.started": "2021-08-18T15:27:12.676540Z"
    }
   },
   "outputs": [],
   "source": [
    "# gold medals for USA\n",
    "goldMedals_USA = goldMedals.loc[goldMedals['NOC'] == 'USA']"
   ]
  },
  {
   "cell_type": "code",
   "execution_count": 33,
   "metadata": {
    "execution": {
     "iopub.execute_input": "2021-08-18T15:27:12.687825Z",
     "iopub.status.busy": "2021-08-18T15:27:12.687140Z",
     "iopub.status.idle": "2021-08-18T15:27:12.707364Z",
     "shell.execute_reply": "2021-08-18T15:27:12.706513Z",
     "shell.execute_reply.started": "2021-08-18T15:27:12.687785Z"
    }
   },
   "outputs": [
    {
     "data": {
      "text/html": [
       "<div>\n",
       "<style scoped>\n",
       "    .dataframe tbody tr th:only-of-type {\n",
       "        vertical-align: middle;\n",
       "    }\n",
       "\n",
       "    .dataframe tbody tr th {\n",
       "        vertical-align: top;\n",
       "    }\n",
       "\n",
       "    .dataframe thead th {\n",
       "        text-align: right;\n",
       "    }\n",
       "</style>\n",
       "<table border=\"1\" class=\"dataframe\">\n",
       "  <thead>\n",
       "    <tr style=\"text-align: right;\">\n",
       "      <th></th>\n",
       "      <th>index</th>\n",
       "      <th>Medal</th>\n",
       "    </tr>\n",
       "  </thead>\n",
       "  <tbody>\n",
       "    <tr>\n",
       "      <th>0</th>\n",
       "      <td>Basketball Men's Basketball</td>\n",
       "      <td>186</td>\n",
       "    </tr>\n",
       "    <tr>\n",
       "      <th>1</th>\n",
       "      <td>Swimming Men's 4 x 200 metres Freestyle Relay</td>\n",
       "      <td>111</td>\n",
       "    </tr>\n",
       "    <tr>\n",
       "      <th>2</th>\n",
       "      <td>Swimming Men's 4 x 100 metres Medley Relay</td>\n",
       "      <td>108</td>\n",
       "    </tr>\n",
       "    <tr>\n",
       "      <th>3</th>\n",
       "      <td>Rowing Men's Coxed Eights</td>\n",
       "      <td>107</td>\n",
       "    </tr>\n",
       "    <tr>\n",
       "      <th>4</th>\n",
       "      <td>Basketball Women's Basketball</td>\n",
       "      <td>95</td>\n",
       "    </tr>\n",
       "    <tr>\n",
       "      <th>5</th>\n",
       "      <td>Athletics Men's 4 x 400 metres Relay</td>\n",
       "      <td>81</td>\n",
       "    </tr>\n",
       "    <tr>\n",
       "      <th>6</th>\n",
       "      <td>Swimming Women's 4 x 100 metres Medley Relay</td>\n",
       "      <td>79</td>\n",
       "    </tr>\n",
       "    <tr>\n",
       "      <th>7</th>\n",
       "      <td>Swimming Women's 4 x 100 metres Freestyle Relay</td>\n",
       "      <td>78</td>\n",
       "    </tr>\n",
       "    <tr>\n",
       "      <th>8</th>\n",
       "      <td>Football Women's Football</td>\n",
       "      <td>66</td>\n",
       "    </tr>\n",
       "    <tr>\n",
       "      <th>9</th>\n",
       "      <td>Athletics Men's 4 x 100 metres Relay</td>\n",
       "      <td>63</td>\n",
       "    </tr>\n",
       "    <tr>\n",
       "      <th>10</th>\n",
       "      <td>Swimming Men's 4 x 100 metres Freestyle Relay</td>\n",
       "      <td>58</td>\n",
       "    </tr>\n",
       "    <tr>\n",
       "      <th>11</th>\n",
       "      <td>Athletics Women's 4 x 100 metres Relay</td>\n",
       "      <td>50</td>\n",
       "    </tr>\n",
       "    <tr>\n",
       "      <th>12</th>\n",
       "      <td>Softball Women's Softball</td>\n",
       "      <td>45</td>\n",
       "    </tr>\n",
       "    <tr>\n",
       "      <th>13</th>\n",
       "      <td>Athletics Women's 4 x 400 metres Relay</td>\n",
       "      <td>38</td>\n",
       "    </tr>\n",
       "    <tr>\n",
       "      <th>14</th>\n",
       "      <td>Rugby Men's Rugby</td>\n",
       "      <td>36</td>\n",
       "    </tr>\n",
       "    <tr>\n",
       "      <th>15</th>\n",
       "      <td>Ice Hockey Men's Ice Hockey</td>\n",
       "      <td>36</td>\n",
       "    </tr>\n",
       "    <tr>\n",
       "      <th>16</th>\n",
       "      <td>Volleyball Men's Volleyball</td>\n",
       "      <td>36</td>\n",
       "    </tr>\n",
       "    <tr>\n",
       "      <th>17</th>\n",
       "      <td>Rowing Women's Coxed Eights</td>\n",
       "      <td>36</td>\n",
       "    </tr>\n",
       "    <tr>\n",
       "      <th>18</th>\n",
       "      <td>Swimming Women's 4 x 200 metres Freestyle Relay</td>\n",
       "      <td>33</td>\n",
       "    </tr>\n",
       "    <tr>\n",
       "      <th>19</th>\n",
       "      <td>Water Polo Women's Water Polo</td>\n",
       "      <td>25</td>\n",
       "    </tr>\n",
       "  </tbody>\n",
       "</table>\n",
       "</div>"
      ],
      "text/plain": [
       "                                              index  Medal\n",
       "0                       Basketball Men's Basketball    186\n",
       "1     Swimming Men's 4 x 200 metres Freestyle Relay    111\n",
       "2        Swimming Men's 4 x 100 metres Medley Relay    108\n",
       "3                         Rowing Men's Coxed Eights    107\n",
       "4                     Basketball Women's Basketball     95\n",
       "5              Athletics Men's 4 x 400 metres Relay     81\n",
       "6      Swimming Women's 4 x 100 metres Medley Relay     79\n",
       "7   Swimming Women's 4 x 100 metres Freestyle Relay     78\n",
       "8                         Football Women's Football     66\n",
       "9              Athletics Men's 4 x 100 metres Relay     63\n",
       "10    Swimming Men's 4 x 100 metres Freestyle Relay     58\n",
       "11           Athletics Women's 4 x 100 metres Relay     50\n",
       "12                        Softball Women's Softball     45\n",
       "13           Athletics Women's 4 x 400 metres Relay     38\n",
       "14                                Rugby Men's Rugby     36\n",
       "15                      Ice Hockey Men's Ice Hockey     36\n",
       "16                      Volleyball Men's Volleyball     36\n",
       "17                      Rowing Women's Coxed Eights     36\n",
       "18  Swimming Women's 4 x 200 metres Freestyle Relay     33\n",
       "19                    Water Polo Women's Water Polo     25"
      ]
     },
     "execution_count": 33,
     "metadata": {},
     "output_type": "execute_result"
    }
   ],
   "source": [
    "goldMedals_USA.Event.value_counts().reset_index(name='Medal').head(20)"
   ]
  },
  {
   "cell_type": "markdown",
   "metadata": {},
   "source": [
    "#### Thus we can see that Basketball tops this list.Maximum number of medals was won by the Men's Basketball team."
   ]
  },
  {
   "cell_type": "code",
   "execution_count": 34,
   "metadata": {
    "execution": {
     "iopub.execute_input": "2021-08-18T15:27:12.709022Z",
     "iopub.status.busy": "2021-08-18T15:27:12.708665Z",
     "iopub.status.idle": "2021-08-18T15:27:12.736164Z",
     "shell.execute_reply": "2021-08-18T15:27:12.735088Z",
     "shell.execute_reply.started": "2021-08-18T15:27:12.708986Z"
    }
   },
   "outputs": [
    {
     "data": {
      "text/plain": [
       "United States    137\n",
       "Great Britain     64\n",
       "Russia            50\n",
       "Germany           47\n",
       "China             44\n",
       "Name: Team, dtype: int64"
      ]
     },
     "execution_count": 34,
     "metadata": {},
     "output_type": "execute_result"
    }
   ],
   "source": [
    "# Rio Olympics\n",
    "max_year = df_merged.Year.max()\n",
    "\n",
    "df_Rio_teams = df_merged[(df_merged.Year == max_year) & (df_merged.Medal == 'Gold')]['Team']\n",
    "\n",
    "df_Rio_teams.value_counts().head()"
   ]
  },
  {
   "cell_type": "code",
   "execution_count": 35,
   "metadata": {
    "execution": {
     "iopub.execute_input": "2021-08-18T15:27:12.738039Z",
     "iopub.status.busy": "2021-08-18T15:27:12.737627Z",
     "iopub.status.idle": "2021-08-18T15:27:13.046920Z",
     "shell.execute_reply": "2021-08-18T15:27:13.045795Z",
     "shell.execute_reply.started": "2021-08-18T15:27:12.737998Z"
    }
   },
   "outputs": [
    {
     "data": {
      "image/png": "[encoded data removed]",
      "text/plain": [
       "<Figure size 864x432 with 1 Axes>"
      ]
     },
     "metadata": {
      "needs_background": "light"
     },
     "output_type": "display_data"
    }
   ],
   "source": [
    "# countplot for 2016 country wise gold medals\n",
    "plt.figure(figsize=(12,6))\n",
    "sns.barplot(x = df_Rio_teams.value_counts().head(20), y = df_Rio_teams.value_counts().head(20).index )\n",
    "plt.title('Country wise gold medals for the year 2016')\n",
    "plt.show()"
   ]
  },
  {
   "cell_type": "code",
   "execution_count": 36,
   "metadata": {
    "execution": {
     "iopub.execute_input": "2021-08-18T15:27:13.048838Z",
     "iopub.status.busy": "2021-08-18T15:27:13.048461Z",
     "iopub.status.idle": "2021-08-18T15:27:13.057932Z",
     "shell.execute_reply": "2021-08-18T15:27:13.056864Z",
     "shell.execute_reply.started": "2021-08-18T15:27:13.048798Z"
    }
   },
   "outputs": [],
   "source": [
    "# lets look at the relationship between height and weight\n",
    "gold_medals_cleaned = goldMedals[(goldMedals['Height'].notnull()) & (goldMedals['Weight'].notnull())]"
   ]
  },
  {
   "cell_type": "code",
   "execution_count": 37,
   "metadata": {
    "execution": {
     "iopub.execute_input": "2021-08-18T15:27:13.059906Z",
     "iopub.status.busy": "2021-08-18T15:27:13.059438Z",
     "iopub.status.idle": "2021-08-18T15:27:13.269193Z",
     "shell.execute_reply": "2021-08-18T15:27:13.268215Z",
     "shell.execute_reply.started": "2021-08-18T15:27:13.059864Z"
    }
   },
   "outputs": [
    {
     "data": {
      "image/png": "[encoded data removed]",
      "text/plain": [
       "<Figure size 864x720 with 1 Axes>"
      ]
     },
     "metadata": {
      "needs_background": "light"
     },
     "output_type": "display_data"
    }
   ],
   "source": [
    "plt.figure(figsize=(12, 10))\n",
    "sns.scatterplot(x=\"Height\", y=\"Weight\", data=gold_medals_cleaned)\n",
    "plt.title('Height vs Weight of Olympic Medalists')\n",
    "plt.show()"
   ]
  },
  {
   "cell_type": "markdown",
   "metadata": {},
   "source": [
    "#### There is a linear relationship between height and weight as expected."
   ]
  },
  {
   "cell_type": "markdown",
   "metadata": {},
   "source": [
    "### The distribution of height and weight of male and female athelete over time in both seasons"
   ]
  },
  {
   "cell_type": "code",
   "execution_count": 38,
   "metadata": {
    "execution": {
     "iopub.execute_input": "2021-08-18T15:27:13.270753Z",
     "iopub.status.busy": "2021-08-18T15:27:13.270385Z",
     "iopub.status.idle": "2021-08-18T15:27:25.185569Z",
     "shell.execute_reply": "2021-08-18T15:27:25.184687Z",
     "shell.execute_reply.started": "2021-08-18T15:27:13.270717Z"
    }
   },
   "outputs": [
    {
     "data": {
      "image/png": "[encoded data removed]",
      "text/plain": [
       "<Figure size 864x432 with 2 Axes>"
      ]
     },
     "metadata": {
      "needs_background": "light"
     },
     "output_type": "display_data"
    }
   ],
   "source": [
    "merged_df_cleaned = df_merged[(df_merged['Height'].notnull()) & (df_merged['Weight'].notnull())]\n",
    "\n",
    "g = sns.FacetGrid(merged_df_cleaned,col=\"Season\")\n",
    "g.map(sns.scatterplot, \"Height\", \"Weight\",\"Sex\")\n",
    "g.add_legend()\n",
    "fig = plt.gcf()\n",
    "fig.set_size_inches(12, 6)\n",
    "plt.show()"
   ]
  },
  {
   "cell_type": "markdown",
   "metadata": {},
   "source": [
    "## **Model Building**"
   ]
  },
  {
   "cell_type": "markdown",
   "metadata": {},
   "source": [
    "#### Data Cleaning"
   ]
  },
  {
   "cell_type": "code",
   "execution_count": 39,
   "metadata": {
    "execution": {
     "iopub.execute_input": "2021-08-18T15:27:25.187375Z",
     "iopub.status.busy": "2021-08-18T15:27:25.186875Z",
     "iopub.status.idle": "2021-08-18T15:27:25.193262Z",
     "shell.execute_reply": "2021-08-18T15:27:25.192346Z",
     "shell.execute_reply.started": "2021-08-18T15:27:25.187337Z"
    }
   },
   "outputs": [
    {
     "data": {
      "text/plain": [
       "(271116, 17)"
      ]
     },
     "execution_count": 39,
     "metadata": {},
     "output_type": "execute_result"
    }
   ],
   "source": [
    "df_merged.shape"
   ]
  },
  {
   "cell_type": "code",
   "execution_count": 40,
   "metadata": {
    "execution": {
     "iopub.execute_input": "2021-08-18T15:27:25.195108Z",
     "iopub.status.busy": "2021-08-18T15:27:25.194548Z",
     "iopub.status.idle": "2021-08-18T15:27:25.464372Z",
     "shell.execute_reply": "2021-08-18T15:27:25.463310Z",
     "shell.execute_reply.started": "2021-08-18T15:27:25.195067Z"
    }
   },
   "outputs": [
    {
     "data": {
      "text/plain": [
       "ID             0\n",
       "Name           0\n",
       "Sex            0\n",
       "Age         9474\n",
       "Height     60171\n",
       "Weight     62875\n",
       "Team           0\n",
       "NOC            0\n",
       "Games          0\n",
       "Year           0\n",
       "Season         0\n",
       "City           0\n",
       "Sport          0\n",
       "Event          0\n",
       "Medal     231333\n",
       "region       370\n",
       "notes     266077\n",
       "dtype: int64"
      ]
     },
     "execution_count": 40,
     "metadata": {},
     "output_type": "execute_result"
    }
   ],
   "source": [
    "df_merged.isnull().sum()"
   ]
  },
  {
   "cell_type": "code",
   "execution_count": 41,
   "metadata": {
    "execution": {
     "iopub.execute_input": "2021-08-18T15:27:25.466149Z",
     "iopub.status.busy": "2021-08-18T15:27:25.465771Z",
     "iopub.status.idle": "2021-08-18T15:27:25.515670Z",
     "shell.execute_reply": "2021-08-18T15:27:25.514824Z",
     "shell.execute_reply.started": "2021-08-18T15:27:25.466112Z"
    }
   },
   "outputs": [],
   "source": [
    "# dropping features which do not make any sense to predict salary\n",
    "data = df_merged.copy()\n",
    "data.drop(['ID','Name','Games','region','notes'],axis=1,inplace=True)"
   ]
  },
  {
   "cell_type": "code",
   "execution_count": 42,
   "metadata": {
    "execution": {
     "iopub.execute_input": "2021-08-18T15:27:25.517414Z",
     "iopub.status.busy": "2021-08-18T15:27:25.517037Z",
     "iopub.status.idle": "2021-08-18T15:27:25.743429Z",
     "shell.execute_reply": "2021-08-18T15:27:25.742455Z",
     "shell.execute_reply.started": "2021-08-18T15:27:25.517375Z"
    }
   },
   "outputs": [],
   "source": [
    "# Binary Encoding for Medal\n",
    "data['Medal'] = data['Medal'].apply(lambda x: 1 if str(x) != 'nan' else 0)"
   ]
  },
  {
   "cell_type": "code",
   "execution_count": 43,
   "metadata": {
    "execution": {
     "iopub.execute_input": "2021-08-18T15:27:25.745248Z",
     "iopub.status.busy": "2021-08-18T15:27:25.744849Z",
     "iopub.status.idle": "2021-08-18T15:27:25.765444Z",
     "shell.execute_reply": "2021-08-18T15:27:25.764341Z",
     "shell.execute_reply.started": "2021-08-18T15:27:25.745208Z"
    }
   },
   "outputs": [
    {
     "data": {
      "text/html": [
       "<div>\n",
       "<style scoped>\n",
       "    .dataframe tbody tr th:only-of-type {\n",
       "        vertical-align: middle;\n",
       "    }\n",
       "\n",
       "    .dataframe tbody tr th {\n",
       "        vertical-align: top;\n",
       "    }\n",
       "\n",
       "    .dataframe thead th {\n",
       "        text-align: right;\n",
       "    }\n",
       "</style>\n",
       "<table border=\"1\" class=\"dataframe\">\n",
       "  <thead>\n",
       "    <tr style=\"text-align: right;\">\n",
       "      <th></th>\n",
       "      <th>Sex</th>\n",
       "      <th>Age</th>\n",
       "      <th>Height</th>\n",
       "      <th>Weight</th>\n",
       "      <th>Team</th>\n",
       "      <th>NOC</th>\n",
       "      <th>Year</th>\n",
       "      <th>Season</th>\n",
       "      <th>City</th>\n",
       "      <th>Sport</th>\n",
       "      <th>Event</th>\n",
       "      <th>Medal</th>\n",
       "    </tr>\n",
       "  </thead>\n",
       "  <tbody>\n",
       "    <tr>\n",
       "      <th>0</th>\n",
       "      <td>M</td>\n",
       "      <td>24.0</td>\n",
       "      <td>180.0</td>\n",
       "      <td>80.0</td>\n",
       "      <td>China</td>\n",
       "      <td>CHN</td>\n",
       "      <td>1992</td>\n",
       "      <td>Summer</td>\n",
       "      <td>Barcelona</td>\n",
       "      <td>Basketball</td>\n",
       "      <td>Basketball Men's Basketball</td>\n",
       "      <td>0</td>\n",
       "    </tr>\n",
       "    <tr>\n",
       "      <th>1</th>\n",
       "      <td>M</td>\n",
       "      <td>23.0</td>\n",
       "      <td>170.0</td>\n",
       "      <td>60.0</td>\n",
       "      <td>China</td>\n",
       "      <td>CHN</td>\n",
       "      <td>2012</td>\n",
       "      <td>Summer</td>\n",
       "      <td>London</td>\n",
       "      <td>Judo</td>\n",
       "      <td>Judo Men's Extra-Lightweight</td>\n",
       "      <td>0</td>\n",
       "    </tr>\n",
       "    <tr>\n",
       "      <th>2</th>\n",
       "      <td>M</td>\n",
       "      <td>24.0</td>\n",
       "      <td>NaN</td>\n",
       "      <td>NaN</td>\n",
       "      <td>Denmark</td>\n",
       "      <td>DEN</td>\n",
       "      <td>1920</td>\n",
       "      <td>Summer</td>\n",
       "      <td>Antwerpen</td>\n",
       "      <td>Football</td>\n",
       "      <td>Football Men's Football</td>\n",
       "      <td>0</td>\n",
       "    </tr>\n",
       "    <tr>\n",
       "      <th>3</th>\n",
       "      <td>M</td>\n",
       "      <td>34.0</td>\n",
       "      <td>NaN</td>\n",
       "      <td>NaN</td>\n",
       "      <td>Denmark/Sweden</td>\n",
       "      <td>DEN</td>\n",
       "      <td>1900</td>\n",
       "      <td>Summer</td>\n",
       "      <td>Paris</td>\n",
       "      <td>Tug-Of-War</td>\n",
       "      <td>Tug-Of-War Men's Tug-Of-War</td>\n",
       "      <td>1</td>\n",
       "    </tr>\n",
       "    <tr>\n",
       "      <th>4</th>\n",
       "      <td>F</td>\n",
       "      <td>21.0</td>\n",
       "      <td>185.0</td>\n",
       "      <td>82.0</td>\n",
       "      <td>Netherlands</td>\n",
       "      <td>NED</td>\n",
       "      <td>1988</td>\n",
       "      <td>Winter</td>\n",
       "      <td>Calgary</td>\n",
       "      <td>Speed Skating</td>\n",
       "      <td>Speed Skating Women's 500 metres</td>\n",
       "      <td>0</td>\n",
       "    </tr>\n",
       "  </tbody>\n",
       "</table>\n",
       "</div>"
      ],
      "text/plain": [
       "  Sex   Age  Height  Weight            Team  NOC  Year  Season       City  \\\n",
       "0   M  24.0   180.0    80.0           China  CHN  1992  Summer  Barcelona   \n",
       "1   M  23.0   170.0    60.0           China  CHN  2012  Summer     London   \n",
       "2   M  24.0     NaN     NaN         Denmark  DEN  1920  Summer  Antwerpen   \n",
       "3   M  34.0     NaN     NaN  Denmark/Sweden  DEN  1900  Summer      Paris   \n",
       "4   F  21.0   185.0    82.0     Netherlands  NED  1988  Winter    Calgary   \n",
       "\n",
       "           Sport                             Event  Medal  \n",
       "0     Basketball       Basketball Men's Basketball      0  \n",
       "1           Judo      Judo Men's Extra-Lightweight      0  \n",
       "2       Football           Football Men's Football      0  \n",
       "3     Tug-Of-War       Tug-Of-War Men's Tug-Of-War      1  \n",
       "4  Speed Skating  Speed Skating Women's 500 metres      0  "
      ]
     },
     "execution_count": 43,
     "metadata": {},
     "output_type": "execute_result"
    }
   ],
   "source": [
    "data.head()"
   ]
  },
  {
   "cell_type": "code",
   "execution_count": 44,
   "metadata": {
    "execution": {
     "iopub.execute_input": "2021-08-18T15:27:25.767729Z",
     "iopub.status.busy": "2021-08-18T15:27:25.767224Z",
     "iopub.status.idle": "2021-08-18T15:27:25.832070Z",
     "shell.execute_reply": "2021-08-18T15:27:25.831017Z",
     "shell.execute_reply.started": "2021-08-18T15:27:25.767654Z"
    }
   },
   "outputs": [
    {
     "data": {
      "text/html": [
       "<div>\n",
       "<style scoped>\n",
       "    .dataframe tbody tr th:only-of-type {\n",
       "        vertical-align: middle;\n",
       "    }\n",
       "\n",
       "    .dataframe tbody tr th {\n",
       "        vertical-align: top;\n",
       "    }\n",
       "\n",
       "    .dataframe thead th {\n",
       "        text-align: right;\n",
       "    }\n",
       "</style>\n",
       "<table border=\"1\" class=\"dataframe\">\n",
       "  <thead>\n",
       "    <tr style=\"text-align: right;\">\n",
       "      <th></th>\n",
       "      <th></th>\n",
       "      <th>Age</th>\n",
       "      <th>Height</th>\n",
       "      <th>Weight</th>\n",
       "      <th>Year</th>\n",
       "    </tr>\n",
       "    <tr>\n",
       "      <th>Medal</th>\n",
       "      <th>Sex</th>\n",
       "      <th></th>\n",
       "      <th></th>\n",
       "      <th></th>\n",
       "      <th></th>\n",
       "    </tr>\n",
       "  </thead>\n",
       "  <tbody>\n",
       "    <tr>\n",
       "      <th rowspan=\"2\" valign=\"top\">0</th>\n",
       "      <th>F</th>\n",
       "      <td>23</td>\n",
       "      <td>167</td>\n",
       "      <td>59</td>\n",
       "      <td>1992</td>\n",
       "    </tr>\n",
       "    <tr>\n",
       "      <th>M</th>\n",
       "      <td>26</td>\n",
       "      <td>178</td>\n",
       "      <td>75</td>\n",
       "      <td>1974</td>\n",
       "    </tr>\n",
       "    <tr>\n",
       "      <th rowspan=\"2\" valign=\"top\">1</th>\n",
       "      <th>F</th>\n",
       "      <td>24</td>\n",
       "      <td>170</td>\n",
       "      <td>63</td>\n",
       "      <td>1992</td>\n",
       "    </tr>\n",
       "    <tr>\n",
       "      <th>M</th>\n",
       "      <td>26</td>\n",
       "      <td>181</td>\n",
       "      <td>79</td>\n",
       "      <td>1966</td>\n",
       "    </tr>\n",
       "  </tbody>\n",
       "</table>\n",
       "</div>"
      ],
      "text/plain": [
       "           Age  Height  Weight  Year\n",
       "Medal Sex                           \n",
       "0     F     23     167      59  1992\n",
       "      M     26     178      75  1974\n",
       "1     F     24     170      63  1992\n",
       "      M     26     181      79  1966"
      ]
     },
     "execution_count": 44,
     "metadata": {},
     "output_type": "execute_result"
    }
   ],
   "source": [
    "# groupby for medal and gender then calculate mean for numerical features \n",
    "data.groupby(['Medal', 'Sex']).mean().astype(np.int)"
   ]
  },
  {
   "cell_type": "code",
   "execution_count": 45,
   "metadata": {
    "execution": {
     "iopub.execute_input": "2021-08-18T15:27:25.833848Z",
     "iopub.status.busy": "2021-08-18T15:27:25.833482Z",
     "iopub.status.idle": "2021-08-18T15:27:27.866740Z",
     "shell.execute_reply": "2021-08-18T15:27:27.865953Z",
     "shell.execute_reply.started": "2021-08-18T15:27:25.833811Z"
    }
   },
   "outputs": [
    {
     "data": {
      "text/plain": [
       "['Age', 'Height', 'Weight']"
      ]
     },
     "execution_count": 45,
     "metadata": {},
     "output_type": "execute_result"
    }
   ],
   "source": [
    "# list of columns with null values \n",
    "missing_values_columns = [col for col in data.columns if data.isnull().sum()[col] > 0]\n",
    "missing_values_columns"
   ]
  },
  {
   "cell_type": "code",
   "execution_count": 46,
   "metadata": {
    "execution": {
     "iopub.execute_input": "2021-08-18T15:27:27.868316Z",
     "iopub.status.busy": "2021-08-18T15:27:27.867941Z",
     "iopub.status.idle": "2021-08-18T15:27:28.171576Z",
     "shell.execute_reply": "2021-08-18T15:27:28.170677Z",
     "shell.execute_reply.started": "2021-08-18T15:27:27.868286Z"
    }
   },
   "outputs": [],
   "source": [
    "# function for missing values substitution\n",
    "def fill_missing_values(data,missing_values_columns):\n",
    "    df = data.copy()\n",
    "    '''substitute missing values using the above condition- \n",
    "    for example: height for female medalist is 170'''\n",
    "    for col in missing_values_columns:\n",
    "        df[col] = df.groupby(['Medal', 'Sex'])[col].apply(lambda x: x.fillna(x.mean()).astype(np.int))\n",
    "     \n",
    "    return df\n",
    "\n",
    "# lets use this function to fill the missing values\n",
    "data = fill_missing_values(data,missing_values_columns)"
   ]
  },
  {
   "cell_type": "code",
   "execution_count": 47,
   "metadata": {
    "execution": {
     "iopub.execute_input": "2021-08-18T15:27:28.173432Z",
     "iopub.status.busy": "2021-08-18T15:27:28.172868Z",
     "iopub.status.idle": "2021-08-18T15:27:28.347029Z",
     "shell.execute_reply": "2021-08-18T15:27:28.346089Z",
     "shell.execute_reply.started": "2021-08-18T15:27:28.173390Z"
    }
   },
   "outputs": [
    {
     "name": "stdout",
     "output_type": "stream",
     "text": [
      "Total missing values: 0\n"
     ]
    }
   ],
   "source": [
    "print(\"Total missing values:\", data.isna().sum().sum())"
   ]
  },
  {
   "cell_type": "code",
   "execution_count": 48,
   "metadata": {
    "execution": {
     "iopub.execute_input": "2021-08-18T15:27:28.348806Z",
     "iopub.status.busy": "2021-08-18T15:27:28.348434Z",
     "iopub.status.idle": "2021-08-18T15:27:28.360341Z",
     "shell.execute_reply": "2021-08-18T15:27:28.359059Z",
     "shell.execute_reply.started": "2021-08-18T15:27:28.348766Z"
    }
   },
   "outputs": [
    {
     "name": "stdout",
     "output_type": "stream",
     "text": [
      "Numerical Features are :  ['Age', 'Height', 'Weight']\n",
      "\n",
      "\n",
      "Categorical Features are :  ['Sex', 'Team', 'NOC', 'Season', 'City', 'Sport', 'Event']\n"
     ]
    }
   ],
   "source": [
    "# creating list of categorical columns for one hot encoding\n",
    "categorical_columns = [col for col in data.columns if data.dtypes[col] == 'object']\n",
    "\n",
    "# creating list of numerical columns to standardized data \n",
    "numerical_columns = [col for col in data.columns if ((data.dtypes[col] != 'object') & (col not in ['Medal','Year']))]\n",
    "\n",
    "print('Numerical Features are : ',numerical_columns)\n",
    "print('\\n')\n",
    "print('Categorical Features are : ',categorical_columns)"
   ]
  },
  {
   "cell_type": "code",
   "execution_count": 49,
   "metadata": {
    "execution": {
     "iopub.execute_input": "2021-08-18T15:27:28.362897Z",
     "iopub.status.busy": "2021-08-18T15:27:28.362315Z",
     "iopub.status.idle": "2021-08-18T15:27:28.525666Z",
     "shell.execute_reply": "2021-08-18T15:27:28.524681Z",
     "shell.execute_reply.started": "2021-08-18T15:27:28.362859Z"
    }
   },
   "outputs": [
    {
     "data": {
      "text/plain": [
       "{'Sex': 2,\n",
       " 'Team': 1184,\n",
       " 'NOC': 230,\n",
       " 'Season': 2,\n",
       " 'City': 42,\n",
       " 'Sport': 66,\n",
       " 'Event': 765}"
      ]
     },
     "execution_count": 49,
     "metadata": {},
     "output_type": "execute_result"
    }
   ],
   "source": [
    "# checking unique categories in categorical features for binary and onehot encoding\n",
    "\n",
    "unique_categories = {col: len(data[col].unique()) for col in data.select_dtypes('object').columns}\n",
    "unique_categories"
   ]
  },
  {
   "cell_type": "markdown",
   "metadata": {},
   "source": [
    "### OneHotEncoding for Categorical Features"
   ]
  },
  {
   "cell_type": "code",
   "execution_count": 50,
   "metadata": {
    "execution": {
     "iopub.execute_input": "2021-08-18T15:27:28.527551Z",
     "iopub.status.busy": "2021-08-18T15:27:28.527175Z",
     "iopub.status.idle": "2021-08-18T15:27:28.533474Z",
     "shell.execute_reply": "2021-08-18T15:27:28.532239Z",
     "shell.execute_reply.started": "2021-08-18T15:27:28.527515Z"
    }
   },
   "outputs": [],
   "source": [
    "# one hot encoding function for categorical features \n",
    "def onehot_encoder(data, cols):\n",
    "    df = data.copy()\n",
    "    for col in cols:\n",
    "        dummies = pd.get_dummies(df[col],drop_first=True)\n",
    "        # concatenating dummies and original dataframe\n",
    "        df = pd.concat([df, dummies], axis=1)\n",
    "        \n",
    "        # dropping original coolumns for which encoding is applied.\n",
    "        df.drop(col, axis=1,inplace=True)\n",
    "    return df"
   ]
  },
  {
   "cell_type": "code",
   "execution_count": 51,
   "metadata": {
    "execution": {
     "iopub.execute_input": "2021-08-18T15:27:28.535494Z",
     "iopub.status.busy": "2021-08-18T15:27:28.535087Z",
     "iopub.status.idle": "2021-08-18T15:27:35.009128Z",
     "shell.execute_reply": "2021-08-18T15:27:35.008228Z",
     "shell.execute_reply.started": "2021-08-18T15:27:28.535457Z"
    }
   },
   "outputs": [],
   "source": [
    "# applying onehot encoding on features with more than 2 categories\n",
    "data = onehot_encoder(\n",
    "    data,\n",
    "    cols = ['Team', 'NOC', 'City', 'Sport', 'Event']\n",
    ")"
   ]
  },
  {
   "cell_type": "markdown",
   "metadata": {},
   "source": [
    "### Binary Encoding for Categorical Features"
   ]
  },
  {
   "cell_type": "code",
   "execution_count": 52,
   "metadata": {
    "execution": {
     "iopub.execute_input": "2021-08-18T15:27:35.010700Z",
     "iopub.status.busy": "2021-08-18T15:27:35.010356Z",
     "iopub.status.idle": "2021-08-18T15:27:35.018842Z",
     "shell.execute_reply": "2021-08-18T15:27:35.018029Z",
     "shell.execute_reply.started": "2021-08-18T15:27:35.010665Z"
    }
   },
   "outputs": [],
   "source": [
    "# Binary encoding function for categorical features \n",
    "def binary_encoder(data, columns, positive_values):\n",
    "    df = data.copy()\n",
    "    for col, positive_value in zip(columns, positive_values):\n",
    "        df[col] = df[col].apply(lambda x: 1 if x == positive_value else 0)\n",
    "    return df"
   ]
  },
  {
   "cell_type": "code",
   "execution_count": 53,
   "metadata": {
    "execution": {
     "iopub.execute_input": "2021-08-18T15:27:35.020822Z",
     "iopub.status.busy": "2021-08-18T15:27:35.020457Z",
     "iopub.status.idle": "2021-08-18T15:27:35.542084Z",
     "shell.execute_reply": "2021-08-18T15:27:35.541231Z",
     "shell.execute_reply.started": "2021-08-18T15:27:35.020787Z"
    }
   },
   "outputs": [],
   "source": [
    "# applying Binary encoding on features with 2 categories\n",
    "data = binary_encoder(\n",
    "    data,\n",
    "    columns=['Sex', 'Season'],\n",
    "    positive_values=['M', 'Summer']\n",
    ")"
   ]
  },
  {
   "cell_type": "code",
   "execution_count": 54,
   "metadata": {
    "execution": {
     "iopub.execute_input": "2021-08-18T15:27:35.543768Z",
     "iopub.status.busy": "2021-08-18T15:27:35.543421Z",
     "iopub.status.idle": "2021-08-18T15:27:36.125886Z",
     "shell.execute_reply": "2021-08-18T15:27:36.125040Z",
     "shell.execute_reply.started": "2021-08-18T15:27:35.543731Z"
    }
   },
   "outputs": [],
   "source": [
    "# Split dataframe into dependent(y) and indepedent variables(X)\n",
    "X = data.drop('Medal',axis=1)\n",
    "y = data['Medal']"
   ]
  },
  {
   "cell_type": "markdown",
   "metadata": {},
   "source": [
    "### Train-Test Split"
   ]
  },
  {
   "cell_type": "code",
   "execution_count": 55,
   "metadata": {
    "execution": {
     "iopub.execute_input": "2021-08-18T15:27:36.127681Z",
     "iopub.status.busy": "2021-08-18T15:27:36.127292Z",
     "iopub.status.idle": "2021-08-18T15:27:40.072608Z",
     "shell.execute_reply": "2021-08-18T15:27:40.071708Z",
     "shell.execute_reply.started": "2021-08-18T15:27:36.127641Z"
    }
   },
   "outputs": [],
   "source": [
    "# Train-Test Split\n",
    "X_train, X_test, y_train, y_test = train_test_split(X, y, test_size=0.2, random_state=50)"
   ]
  },
  {
   "cell_type": "markdown",
   "metadata": {},
   "source": [
    "### Scaling Numerical Features"
   ]
  },
  {
   "cell_type": "code",
   "execution_count": 56,
   "metadata": {
    "execution": {
     "iopub.execute_input": "2021-08-18T15:27:40.074489Z",
     "iopub.status.busy": "2021-08-18T15:27:40.074045Z",
     "iopub.status.idle": "2021-08-18T15:27:40.304360Z",
     "shell.execute_reply": "2021-08-18T15:27:40.303476Z",
     "shell.execute_reply.started": "2021-08-18T15:27:40.074443Z"
    }
   },
   "outputs": [],
   "source": [
    "# Scaling Numerical Features\n",
    "\n",
    "sc = StandardScaler()\n",
    "X_train[numerical_columns] = sc.fit_transform(X_train[numerical_columns])\n",
    "X_test[numerical_columns] = sc.transform(X_test[numerical_columns])"
   ]
  },
  {
   "cell_type": "markdown",
   "metadata": {},
   "source": [
    "### Model Building"
   ]
  },
  {
   "cell_type": "code",
   "execution_count": 57,
   "metadata": {
    "execution": {
     "iopub.execute_input": "2021-08-18T15:27:40.306338Z",
     "iopub.status.busy": "2021-08-18T15:27:40.305772Z",
     "iopub.status.idle": "2021-08-18T15:34:17.045584Z",
     "shell.execute_reply": "2021-08-18T15:34:17.044717Z",
     "shell.execute_reply.started": "2021-08-18T15:27:40.306297Z"
    }
   },
   "outputs": [
    {
     "data": {
      "text/plain": [
       "RandomForestClassifier()"
      ]
     },
     "execution_count": 57,
     "metadata": {},
     "output_type": "execute_result"
    }
   ],
   "source": [
    "# Random Forest classifier\n",
    "rf = RandomForestClassifier()\n",
    "rf.fit(X_train,y_train)"
   ]
  },
  {
   "cell_type": "code",
   "execution_count": 58,
   "metadata": {
    "execution": {
     "iopub.execute_input": "2021-08-18T15:34:17.047257Z",
     "iopub.status.busy": "2021-08-18T15:34:17.046865Z",
     "iopub.status.idle": "2021-08-18T15:34:22.335840Z",
     "shell.execute_reply": "2021-08-18T15:34:22.334919Z",
     "shell.execute_reply.started": "2021-08-18T15:34:17.047216Z"
    }
   },
   "outputs": [],
   "source": [
    "# Predict\n",
    "y_pred = rf.predict(X_test)"
   ]
  },
  {
   "cell_type": "code",
   "execution_count": 59,
   "metadata": {
    "execution": {
     "iopub.execute_input": "2021-08-18T15:34:22.337728Z",
     "iopub.status.busy": "2021-08-18T15:34:22.337310Z",
     "iopub.status.idle": "2021-08-18T15:34:22.424268Z",
     "shell.execute_reply": "2021-08-18T15:34:22.423275Z",
     "shell.execute_reply.started": "2021-08-18T15:34:22.337690Z"
    }
   },
   "outputs": [
    {
     "name": "stdout",
     "output_type": "stream",
     "text": [
      "Classification Report:\n",
      "\n",
      "               precision    recall  f1-score   support\n",
      "\n",
      "           0       0.94      0.99      0.97     46314\n",
      "           1       0.93      0.64      0.76      7910\n",
      "\n",
      "    accuracy                           0.94     54224\n",
      "   macro avg       0.94      0.82      0.86     54224\n",
      "weighted avg       0.94      0.94      0.94     54224\n",
      "\n"
     ]
    }
   ],
   "source": [
    "print(\"Classification Report:\\n\\n\", classification_report(y_test, y_pred))"
   ]
  },
  {
   "cell_type": "code",
   "execution_count": null,
   "metadata": {},
   "outputs": [],
   "source": []
  }
 ],
 "metadata": {
  "kernelspec": {
   "display_name": "Python 3",
   "language": "python",
   "name": "python3"
  },
  "language_info": {
   "codemirror_mode": {
    "name": "ipython",
    "version": 3
   },
   "file_extension": ".py",
   "mimetype": "text/x-python",
   "name": "python",
   "nbconvert_exporter": "python",
   "pygments_lexer": "ipython3",
   "version": "3.7.7"
  }
 },
 "nbformat": 4,
 "nbformat_minor": 4
}
